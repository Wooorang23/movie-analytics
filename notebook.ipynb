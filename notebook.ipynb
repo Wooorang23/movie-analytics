{
 "cells": [
  {
   "cell_type": "markdown",
   "id": "0",
   "metadata": {},
   "source": [
    "# ETL-процесс и визуализация по данным о фильмах"
   ]
  },
  {
   "cell_type": "code",
   "execution_count": null,
   "id": "1",
   "metadata": {},
   "outputs": [],
   "source": [
    "import numpy as np\n",
    "import pandas as pd\n",
    "import matplotlib.pyplot as plt"
   ]
  },
  {
   "cell_type": "markdown",
   "id": "2",
   "metadata": {},
   "source": [
    "## 1. Источник данных (Extract)\n",
    "\n",
    "Пять CSV-файлов:\n",
    "* **film_work.csv** — фильмы (id, title, creation_date, rating, type, и др.)\n",
    "* **genre.csv** — жанры (id, name)\n",
    "* **genre_film_work.csv** — связи фильмов и жанров (film_work_id, genre_id)\n",
    "* **person.csv** — участники (id, full_name)\n",
    "* **person_film_work.csv** — связи фильмов и персон (film_work_id, person_id, role)\n"
   ]
  },
  {
   "cell_type": "code",
   "execution_count": null,
   "id": "3",
   "metadata": {},
   "outputs": [],
   "source": [
    "film_work        = 'data/raw/content_film_work.xlsx'\n",
    "genre            = 'data/raw/content_genre.xlsx'\n",
    "genre_film_work  = 'data/raw/content_genre_film_work.xlsx'\n",
    "person           = 'data/raw/content_person.xlsx'\n",
    "person_film_work = 'data/raw/content_person_film_work.xlsx'"
   ]
  },
  {
   "cell_type": "code",
   "execution_count": null,
   "id": "4",
   "metadata": {},
   "outputs": [],
   "source": [
    "df_fw   = pd.read_excel(film_work)\n",
    "df_g    = pd.read_excel(genre)\n",
    "df_gfw  = pd.read_excel(genre_film_work)\n",
    "df_p    = pd.read_excel(person)\n",
    "df_pfw  = pd.read_excel(person_film_work)"
   ]
  },
  {
   "cell_type": "code",
   "execution_count": null,
   "id": "5",
   "metadata": {},
   "outputs": [],
   "source": [
    "tables = [df_fw, df_g, df_gfw, df_p, df_pfw]"
   ]
  },
  {
   "cell_type": "markdown",
   "id": "6",
   "metadata": {},
   "source": [
    "## 2. Трансформация данных (Transform)\n",
    "\n",
    "### 2.1. Очистка данных\n",
    "* Преобразовать creation_date в тип datetime, оставить только год.\n",
    "* Убедиться, что rating — числовой (float), обработать пустые/некорректные значения.\n",
    "* Проверить дубликаты, особенно в таблицах связей (многие-ко-многим).\n",
    "\n",
    "#### 2.1.1. Выводы\n",
    "На основе вывода .info() ниже получили следующие выводы:\n",
    "1. **creation_date** польностью нулевой, поэтому мы заполним его значениями из колонки **created**, предварительно конвертировав обе колонки в *datetime*.\n",
    "2. **rating** имеет тип object и данные выглядят в форме даты, поэтому пришлось переводить первоначально в datetime, а потом извлекать из него рейтинг"
   ]
  },
  {
   "cell_type": "code",
   "execution_count": null,
   "id": "7",
   "metadata": {},
   "outputs": [],
   "source": [
    "df_fw.info()"
   ]
  },
  {
   "cell_type": "code",
   "execution_count": null,
   "id": "8",
   "metadata": {},
   "outputs": [],
   "source": [
    "# 1. Поменяем тип для creation_date, сделав его datetime, \n",
    "#    передав туда created в формате datetime\n",
    "df_fw['creation_date'] = pd.to_datetime(\n",
    "    pd.to_datetime(df_fw['created'], errors='coerce')\n",
    ")\n",
    "\n",
    "# 2. Оставим только год\n",
    "df_fw['creation_date'] = df_fw['creation_date'].dt.year"
   ]
  },
  {
   "cell_type": "code",
   "execution_count": null,
   "id": "9",
   "metadata": {},
   "outputs": [],
   "source": [
    "# 1. Поменяем предварительно тип для rating на datetime\n",
    "df_fw['rating'] = pd.to_datetime(df_fw['rating'], errors='coerce')\n",
    "\n",
    "# 2. Видно, что рейтинг, вида 8.6 записан в формате year-06-08, \n",
    "#    поэтому извлекаем день + месяц / 10\n",
    "df_fw['rating'] = df_fw['rating'].dt.day + df_fw['rating'].dt.month / 10\n",
    "\n",
    "# 3. Заполняем пропуски средней оценкей по всей выборке\n",
    "df_fw['rating'] = df_fw['rating'].fillna(df_fw['rating'].mean())"
   ]
  },
  {
   "cell_type": "code",
   "execution_count": null,
   "id": "10",
   "metadata": {},
   "outputs": [],
   "source": [
    "print(\"Количество дубликатов:\")\n",
    "\n",
    "for df in [df_fw, df_g, df_gfw, df_p, df_pfw]:\n",
    "    print(df.duplicated().sum())\n",
    "    \n",
    "    df.drop_duplicates(inplace=True)"
   ]
  }
 ],
 "metadata": {
  "kernelspec": {
   "display_name": "venv",
   "language": "python",
   "name": "python3"
  },
  "language_info": {
   "codemirror_mode": {
    "name": "ipython",
    "version": 3
   },
   "file_extension": ".py",
   "mimetype": "text/x-python",
   "name": "python",
   "nbconvert_exporter": "python",
   "pygments_lexer": "ipython3",
   "version": "3.10.12"
  }
 },
 "nbformat": 4,
 "nbformat_minor": 5
}
